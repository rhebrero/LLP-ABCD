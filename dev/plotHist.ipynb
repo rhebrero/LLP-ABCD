{
 "cells": [
  {
   "cell_type": "code",
   "execution_count": 1,
   "metadata": {},
   "outputs": [
    {
     "name": "stdout",
     "output_type": "stream",
     "text": [
      "Welcome to JupyROOT 6.28/06\n"
     ]
    }
   ],
   "source": [
    "import ROOT as rt"
   ]
  },
  {
   "cell_type": "code",
   "execution_count": null,
   "metadata": {},
   "outputs": [
    {
     "ename": "",
     "evalue": "",
     "output_type": "error",
     "traceback": [
      "\u001b[1;31mThe Kernel crashed while executing code in the the current cell or a previous cell. Please review the code in the cell(s) to identify a possible cause of the failure. Click <a href='https://aka.ms/vscodeJupyterKernelCrash'>here</a> for more info. View Jupyter <a href='command:jupyter.viewOutput'>log</a> for further details."
     ]
    },
    {
     "ename": "",
     "evalue": "",
     "output_type": "error",
     "traceback": [
      "\u001b[1;31mCanceled future for execute_request message before replies were done"
     ]
    }
   ],
   "source": [
    "data_files = [\n",
    "        '/pnfs/ciemat.es/data/cms/store/user/escalant/displacedMuons/NTuples/May2023-v1/ntuple_2022_DoubleMuonRun2022B-ReReco-v2.root',\n",
    "        # '/pnfs/ciemat.es/data/cms/store/user/escalant/displacedMuons/NTuples/May2023-v1/ntuple_2022_DoubleMuonRun2022C-ReReco-v2.root'\n",
    "    ]\n",
    "sim_files = [\n",
    "        '/pnfs/ciemat.es/data/cms/store/user/escalant/displacedLeptons/StopToMuB_v05/StopToMuB_100_1.root'\n",
    "    ]"
   ]
  },
  {
   "cell_type": "code",
   "execution_count": null,
   "metadata": {},
   "outputs": [],
   "source": [
    "f = rt.TFile.Open(data_files[0])\n",
    "t = f.Get('SimpleNTupler/DDTree')\n",
    "t.Show() "
   ]
  },
  {
   "cell_type": "code",
   "execution_count": 3,
   "metadata": {},
   "outputs": [],
   "source": [
    "d = rt.RDataFrame('SimpleNTupler/DDTree',data_files)"
   ]
  },
  {
   "cell_type": "code",
   "execution_count": 4,
   "metadata": {},
   "outputs": [
    {
     "ename": "runtime_error",
     "evalue": "TH1D& ROOT::RDF::RResultPtr<TH1D>::operator*() =>\n    runtime_error: \nAn error occurred during just-in-time compilation in RLoopManager::Run. The lines above might indicate the cause of the crash\nAll RDF objects that have not run their event loop yet should be considered in an invalid state.\n",
     "output_type": "error",
     "traceback": [
      "\u001b[0;31m---------------------------------------------------------------------------\u001b[0m",
      "\u001b[0;31mruntime_error\u001b[0m                             Traceback (most recent call last)",
      "\u001b[0;32m/tmp/ipykernel_46803/727411823.py\u001b[0m in \u001b[0;36m<module>\u001b[0;34m\u001b[0m\n\u001b[1;32m      3\u001b[0m \u001b[0;34m\u001b[0m\u001b[0m\n\u001b[1;32m      4\u001b[0m \u001b[0mh\u001b[0m \u001b[0;34m=\u001b[0m \u001b[0md\u001b[0m\u001b[0;34m.\u001b[0m\u001b[0mFilter\u001b[0m\u001b[0;34m(\u001b[0m\u001b[0;34m'patmu_d0_pv < 0.1'\u001b[0m\u001b[0;34m,\u001b[0m\u001b[0;34m'is_prompt'\u001b[0m\u001b[0;34m)\u001b[0m\u001b[0;34m.\u001b[0m\u001b[0mHisto1D\u001b[0m\u001b[0;34m(\u001b[0m\u001b[0;34m(\u001b[0m\u001b[0mbranch\u001b[0m\u001b[0;34m,\u001b[0m\u001b[0;34mf'Histograma;{branch};Events'\u001b[0m\u001b[0;34m,\u001b[0m\u001b[0;36m100\u001b[0m\u001b[0;34m,\u001b[0m\u001b[0;36m0\u001b[0m\u001b[0;34m,\u001b[0m\u001b[0;36m200\u001b[0m\u001b[0;34m)\u001b[0m\u001b[0;34m,\u001b[0m\u001b[0mbranch\u001b[0m\u001b[0;34m)\u001b[0m\u001b[0;34m\u001b[0m\u001b[0;34m\u001b[0m\u001b[0m\n\u001b[0;32m----> 5\u001b[0;31m \u001b[0mh\u001b[0m\u001b[0;34m.\u001b[0m\u001b[0mDraw\u001b[0m\u001b[0;34m(\u001b[0m\u001b[0;34m)\u001b[0m\u001b[0;34m\u001b[0m\u001b[0;34m\u001b[0m\u001b[0m\n\u001b[0m\u001b[1;32m      6\u001b[0m \u001b[0mcanvas\u001b[0m\u001b[0;34m.\u001b[0m\u001b[0mSetLogy\u001b[0m\u001b[0;34m(\u001b[0m\u001b[0;34m)\u001b[0m\u001b[0;34m\u001b[0m\u001b[0;34m\u001b[0m\u001b[0m\n\u001b[1;32m      7\u001b[0m \u001b[0;34m\u001b[0m\u001b[0m\n",
      "\u001b[0;31mruntime_error\u001b[0m: TH1D& ROOT::RDF::RResultPtr<TH1D>::operator*() =>\n    runtime_error: \nAn error occurred during just-in-time compilation in RLoopManager::Run. The lines above might indicate the cause of the crash\nAll RDF objects that have not run their event loop yet should be considered in an invalid state.\n"
     ]
    },
    {
     "name": "stderr",
     "output_type": "stream",
     "text": [
      "In module 'ROOTDataFrame':\n",
      "/cvmfs/sft.cern.ch/lcg/releases/ROOT/6.28.06-0b358/x86_64-centos7-gcc11-opt/include/ROOT/RDF/InterfaceUtils.hxx:313:4: error: static_assert failed due to requirement 'std::is_convertible<ROOT::VecOps::RVec<int>, bool>::value' \"filter expression returns a type that is not convertible to bool\"\n",
      "   static_assert(std::is_convertible<FilterRet_t, bool>::value,\n",
      "   ^             ~~~~~~~~~~~~~~~~~~~~~~~~~~~~~~~~~~~~~~~~~~~~~\n",
      "/cvmfs/sft.cern.ch/lcg/releases/ROOT/6.28.06-0b358/x86_64-centos7-gcc11-opt/include/ROOT/RDF/InterfaceUtils.hxx:451:4: note: in instantiation of function template specialization 'ROOT::Internal::RDF::CheckFilter<ROOT::VecOps::RVec<int> (ROOT::VecOps::RVec<float> &)>' requested here\n",
      "   CheckFilter(f);\n",
      "   ^\n",
      "input_line_87:2:23: note: in instantiation of function template specialization 'ROOT::Internal::RDF::JitFilterHelper<ROOT::VecOps::RVec<int> (&)(ROOT::VecOps::RVec<float> &), ROOT::Detail::RDF::RNodeBase>' requested here\n",
      " ROOT::Internal::RDF::JitFilterHelper(R_rdf::func0, new const char*[1]{\"patmu_d0_pv\"}, 1, \"is_prompt\", reinterpret_cast<std::weak_ptr<ROOT::Detail::RDF::RJittedFilter>*>(0xc103f90), reinterpret_cast<std::shared_ptr<ROOT::Detail::RDF::RNodeBase>*>(0xbd5f760),reinterpret_cast<ROOT::Internal::RDF::RColumnRegister*>(0xc0075e0));\n",
      "                      ^\n",
      "In module 'ROOTDataFrame':\n",
      "/cvmfs/sft.cern.ch/lcg/releases/ROOT/6.28.06-0b358/x86_64-centos7-gcc11-opt/include/ROOT/RDF/RFilter.hxx:113:14: error: no viable conversion from returned value of type 'ROOT::VecOps::RVec<int>' to function return type 'bool'\n",
      "      return fFilter(fValues[slot][S]->template Get<ColTypes>(entry)...);\n",
      "             ^~~~~~~~~~~~~~~~~~~~~~~~~~~~~~~~~~~~~~~~~~~~~~~~~~~~~~~~~~~\n",
      "/cvmfs/sft.cern.ch/lcg/releases/ROOT/6.28.06-0b358/x86_64-centos7-gcc11-opt/include/ROOT/RDF/RFilter.hxx:100:27: note: in instantiation of function template specialization 'ROOT::Detail::RDF::RFilter<ROOT::VecOps::RVec<int> (*)(ROOT::VecOps::RVec<float> &), ROOT::Detail::RDF::RNodeBase>::CheckFilterHelper<ROOT::VecOps::RVec<float> , 0UL>' requested here\n",
      "            auto passed = CheckFilterHelper(slot, entry, ColumnTypes_t{}, TypeInd_t{});\n",
      "                          ^\n",
      "/cvmfs/sft.cern.ch/lcg/releases/ROOT/6.28.06-0b358/x86_64-centos7-gcc11-opt/include/ROOT/RDF/RFilter.hxx:73:4: note: in instantiation of member function 'ROOT::Detail::RDF::RFilter<ROOT::VecOps::RVec<int> (*)(ROOT::VecOps::RVec<float> &), ROOT::Detail::RDF::RNodeBase>::CheckFilters' requested here\n",
      "   RFilter(FilterF f, const ROOT::RDF::ColumnNames_t &columns, std::shared_ptr<PrevNode_t> pd,\n",
      "   ^\n",
      "/cvmfs/sft.cern.ch/lcg/releases/ROOT/6.28.06-0b358/x86_64-centos7-gcc11-opt/include/ROOT/RDF/InterfaceUtils.hxx:460:40: note: in instantiation of member function 'ROOT::Detail::RDF::RFilter<ROOT::VecOps::RVec<int> (*)(ROOT::VecOps::RVec<float> &), ROOT::Detail::RDF::RNodeBase>::RFilter' requested here\n",
      "      std::unique_ptr<RFilterBase>(new F_t(std::forward<F>(f), cols, *prevNodeOnHeap, *colRegister, name)));\n",
      "                                       ^\n",
      "input_line_87:2:23: note: in instantiation of function template specialization 'ROOT::Internal::RDF::JitFilterHelper<ROOT::VecOps::RVec<int> (&)(ROOT::VecOps::RVec<float> &), ROOT::Detail::RDF::RNodeBase>' requested here\n",
      " ROOT::Internal::RDF::JitFilterHelper(R_rdf::func0, new const char*[1]{\"patmu_d0_pv\"}, 1, \"is_prompt\", reinterpret_cast<std::weak_ptr<ROOT::Detail::RDF::RJittedFilter>*>(0xc103f90), reinterpret_cast<std::shared_ptr<ROOT::Detail::RDF::RNodeBase>*>(0xbd5f760),reinterpret_cast<ROOT::Internal::RDF::RColumnRegister*>(0xc0075e0));\n",
      "                      ^\n",
      "/cvmfs/sft.cern.ch/lcg/releases/ROOT/6.28.06-0b358/x86_64-centos7-gcc11-opt/include/ROOT/RVec.hxx:1535:4: note: candidate template ignored: could not match 'RVec<type-parameter-0-0>' against 'bool'\n",
      "   operator RVec<U>() const\n",
      "   ^\n",
      "/cvmfs/sft.cern.ch/lcg/releases/ROOT/6.28.06-0b358/x86_64-centos7-gcc11-opt/include/ROOT/RVec.hxx:1268:4: note: candidate template ignored: could not match 'RVecN<type-parameter-0-0, N>' against 'bool'\n",
      "   operator RVecN<U, M>() const\n",
      "   ^\n"
     ]
    }
   ],
   "source": [
    "canvas = rt.TCanvas('canvas',\"Histogram Canvas\",600,600)\n",
    "branch = 'ptamu_pt'\n",
    "\n",
    "h = d\\\n",
    "    .Define('is_prompt','patmu_d0_pv < 0.1')\n",
    "    .Filter('ROOT::VecOps::any(is_prompt)','any_prompt')\\\n",
    "    .Histo1D((branch,f'Histograma;{branch};Events',100,0,200),branch)\n",
    "h.Draw()\n",
    "canvas.SetLogy()\n",
    "\n",
    "canvas.Draw()\n"
   ]
  },
  {
   "cell_type": "code",
   "execution_count": null,
   "metadata": {},
   "outputs": [],
   "source": [
    "canvas.Close()"
   ]
  }
 ],
 "metadata": {
  "kernelspec": {
   "display_name": "cvmfs-LCG_104a",
   "language": "python",
   "name": "cvmfs-lcg_104a"
  },
  "orig_nbformat": 4
 },
 "nbformat": 4,
 "nbformat_minor": 2
}
